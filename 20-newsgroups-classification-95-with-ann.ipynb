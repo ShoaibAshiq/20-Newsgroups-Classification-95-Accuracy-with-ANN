{
 "cells": [
  {
   "cell_type": "markdown",
   "id": "80b18ea0",
   "metadata": {
    "papermill": {
     "duration": 0.012195,
     "end_time": "2025-08-20T15:30:41.523446",
     "exception": false,
     "start_time": "2025-08-20T15:30:41.511251",
     "status": "completed"
    },
    "tags": []
   },
   "source": [
    "# **20 Newsgroups Text Classification with Neural Networks**\n",
    "## **📋 Project Overview**\n",
    "This notebook demonstrates a complete text classification pipeline using the famous 20 **Newsgroups dataset**. The project implements an **Artificial Neural Network (ANN)** to classify text documents into 20 different newsgroup categories. This is a classic multi-class text classification problem that showcases fundamental NLP and deep learning techniques.\n",
    "\n",
    "## **🎯 Objectives**\n",
    "* Load and explore the 20 Newsgroups dataset\n",
    "* Perform comprehensive text preprocessing and cleaning\n",
    "* Apply TF-IDF vectorization for feature extraction\n",
    "* Build and train a neural network classifier\n",
    "* Evaluate model performance with detailed metrics\n",
    "\n",
    "## **📊 Dataset Information**\n",
    "The 20 Newsgroups dataset contains approximately 20,000 newsgroup documents, partitioned across 20 different newsgroups. Each document belongs to one of these categories, making it perfect for supervised learning tasks.\n",
    "\n",
    "<hr>\n",
    "\n",
    "## **🔍 Data Loading and Exploration**\n",
    "### **Initial Dataset Exploration**"
   ]
  },
  {
   "cell_type": "code",
   "execution_count": 1,
   "id": "7606a3c4",
   "metadata": {
    "_cell_guid": "e527ccc0-af83-46f6-bc80-064c4f188d51",
    "_uuid": "a2c816cd-eb62-442b-aa4e-5b131036ef0e",
    "collapsed": false,
    "execution": {
     "iopub.execute_input": "2025-08-20T15:30:41.548144Z",
     "iopub.status.busy": "2025-08-20T15:30:41.547730Z",
     "iopub.status.idle": "2025-08-20T15:30:41.682413Z",
     "shell.execute_reply": "2025-08-20T15:30:41.681123Z"
    },
    "jupyter": {
     "outputs_hidden": false
    },
    "papermill": {
     "duration": 0.149452,
     "end_time": "2025-08-20T15:30:41.684865",
     "exception": false,
     "start_time": "2025-08-20T15:30:41.535413",
     "status": "completed"
    },
    "tags": []
   },
   "outputs": [
    {
     "name": "stdout",
     "output_type": "stream",
     "text": [
      "20_newsgroup\r\n"
     ]
    }
   ],
   "source": [
    "!ls /kaggle/input/20-newsgroup-original"
   ]
  },
  {
   "cell_type": "markdown",
   "id": "2a29a83b",
   "metadata": {
    "papermill": {
     "duration": 0.010262,
     "end_time": "2025-08-20T15:30:41.704811",
     "exception": false,
     "start_time": "2025-08-20T15:30:41.694549",
     "status": "completed"
    },
    "tags": []
   },
   "source": [
    "**Purpose**: This command lists the contents of the dataset directory to understand the file structure and organization of the 20 newsgroups data.\n",
    "\n",
    "## **Loading Raw Text Data**"
   ]
  },
  {
   "cell_type": "code",
   "execution_count": 2,
   "id": "259c08e1",
   "metadata": {
    "_cell_guid": "883cb299-3a39-4b19-a029-d60f03694337",
    "_uuid": "b1adc984-70d4-4771-baec-118302f2d63f",
    "collapsed": false,
    "execution": {
     "iopub.execute_input": "2025-08-20T15:30:41.725318Z",
     "iopub.status.busy": "2025-08-20T15:30:41.724968Z",
     "iopub.status.idle": "2025-08-20T15:35:36.785258Z",
     "shell.execute_reply": "2025-08-20T15:35:36.784116Z"
    },
    "jupyter": {
     "outputs_hidden": false
    },
    "papermill": {
     "duration": 295.073211,
     "end_time": "2025-08-20T15:35:36.787524",
     "exception": false,
     "start_time": "2025-08-20T15:30:41.714313",
     "status": "completed"
    },
    "tags": []
   },
   "outputs": [],
   "source": [
    "import pandas as pd\n",
    "\n",
    "data = []\n",
    "\n",
    "import os\n",
    "for dirname, subdir, filenames in os.walk('/kaggle/input/20-newsgroup-original'):\n",
    "    for filename in filenames:\n",
    "        file_path = os.path.join(dirname, filename)\n",
    "        with open(file_path, 'r', errors=\"ignore\") as file:\n",
    "            content = file.read()\n",
    "            category = os.path.basename(dirname)\n",
    "            data.append((category, content))"
   ]
  },
  {
   "cell_type": "markdown",
   "id": "912a9626",
   "metadata": {
    "papermill": {
     "duration": 0.009697,
     "end_time": "2025-08-20T15:35:36.807574",
     "exception": false,
     "start_time": "2025-08-20T15:35:36.797877",
     "status": "completed"
    },
    "tags": []
   },
   "source": [
    "### **What's happening here:**\n",
    "* **Recursive Directory Traversal**: Uses os.walk() to navigate through all subdirectories\n",
    "* **File Reading**: Each text file is read with errors=\"ignore\" to handle encoding issues\n",
    "* **Category Extraction**: The category label is extracted from the directory name\n",
    "* **Data Collection**: Creates tuples of (category, content) for each document\n",
    "\n",
    "### **Key Design Decisions:**\n",
    "Using `errors=\"ignore\"` handles potential encoding issues gracefully\n",
    "Extracting category from directory structure assumes organized file hierarchy\n",
    "Storing as list of tuples provides flexibility for DataFrame creation\n",
    "\n",
    "## **Creating Structured DataFrame**"
   ]
  },
  {
   "cell_type": "code",
   "execution_count": 3,
   "id": "c7ddce7f",
   "metadata": {
    "_cell_guid": "be3078e9-cdfe-46fe-80da-2488ec64a716",
    "_uuid": "d753c48d-141d-48d9-8bb5-27ca59cc1870",
    "collapsed": false,
    "execution": {
     "iopub.execute_input": "2025-08-20T15:35:36.829129Z",
     "iopub.status.busy": "2025-08-20T15:35:36.828599Z",
     "iopub.status.idle": "2025-08-20T15:35:36.849674Z",
     "shell.execute_reply": "2025-08-20T15:35:36.848671Z"
    },
    "jupyter": {
     "outputs_hidden": false
    },
    "papermill": {
     "duration": 0.033845,
     "end_time": "2025-08-20T15:35:36.851481",
     "exception": false,
     "start_time": "2025-08-20T15:35:36.817636",
     "status": "completed"
    },
    "tags": []
   },
   "outputs": [],
   "source": [
    "df = pd.DataFrame(data, columns=['category', 'text'])"
   ]
  },
  {
   "cell_type": "markdown",
   "id": "5b3901f3",
   "metadata": {
    "papermill": {
     "duration": 0.009279,
     "end_time": "2025-08-20T15:35:36.870539",
     "exception": false,
     "start_time": "2025-08-20T15:35:36.861260",
     "status": "completed"
    },
    "tags": []
   },
   "source": [
    "**Purpose**: Converts the raw data into a structured pandas DataFrame with clearly defined columns for easier manipulation and analysis.\n",
    "\n",
    "## **🧹 Text Preprocessing Pipeline**\n",
    "Text preprocessing is crucial for NLP tasks as raw text contains noise that can negatively impact model performance. Our pipeline includes several cleaning steps:\n",
    "## **1. Punctuation Removal**"
   ]
  },
  {
   "cell_type": "code",
   "execution_count": 4,
   "id": "f93abc96",
   "metadata": {
    "_cell_guid": "57b89786-2cff-4b58-be0c-3a75e4fc7459",
    "_uuid": "c4a237dc-5ae4-4ee3-a63a-b7111b5c0c5b",
    "collapsed": false,
    "execution": {
     "iopub.execute_input": "2025-08-20T15:35:36.891055Z",
     "iopub.status.busy": "2025-08-20T15:35:36.890733Z",
     "iopub.status.idle": "2025-08-20T15:35:36.896242Z",
     "shell.execute_reply": "2025-08-20T15:35:36.895123Z"
    },
    "jupyter": {
     "outputs_hidden": false
    },
    "papermill": {
     "duration": 0.017932,
     "end_time": "2025-08-20T15:35:36.897802",
     "exception": false,
     "start_time": "2025-08-20T15:35:36.879870",
     "status": "completed"
    },
    "tags": []
   },
   "outputs": [],
   "source": [
    "import string\n",
    "exclude = string.punctuation\n",
    "def remove_punc(text):\n",
    "    return text.translate(str.maketrans('', '', exclude))"
   ]
  },
  {
   "cell_type": "markdown",
   "id": "e8451475",
   "metadata": {
    "papermill": {
     "duration": 0.009807,
     "end_time": "2025-08-20T15:35:36.917401",
     "exception": false,
     "start_time": "2025-08-20T15:35:36.907594",
     "status": "completed"
    },
    "tags": []
   },
   "source": [
    "#### **Function Explanation:**\n",
    "* **`string.punctuation`**: Contains all standard punctuation marks (!\"#$%&'()*+,-./:;<=>?@[]^_`{|}~)\n",
    "* **`str.maketrans()`**: Creates a translation table for character removal\n",
    "* **Purpose**: Removes noise that doesn't contribute to semantic meaning\n",
    "\n",
    "### **2. Advanced Text Cleaning Functions**"
   ]
  },
  {
   "cell_type": "code",
   "execution_count": 5,
   "id": "247729ed",
   "metadata": {
    "_cell_guid": "93b0ec5e-d2a9-4ec9-9cd9-141b83285ed4",
    "_uuid": "bb043206-f17c-4c2d-a01f-10b994487372",
    "collapsed": false,
    "execution": {
     "iopub.execute_input": "2025-08-20T15:35:36.937898Z",
     "iopub.status.busy": "2025-08-20T15:35:36.937492Z",
     "iopub.status.idle": "2025-08-20T15:35:36.942937Z",
     "shell.execute_reply": "2025-08-20T15:35:36.941864Z"
    },
    "jupyter": {
     "outputs_hidden": false
    },
    "papermill": {
     "duration": 0.017717,
     "end_time": "2025-08-20T15:35:36.944565",
     "exception": false,
     "start_time": "2025-08-20T15:35:36.926848",
     "status": "completed"
    },
    "tags": []
   },
   "outputs": [],
   "source": [
    "import re\n",
    "def clean_digits(text):\n",
    "    return re.sub(r'\\d+', '', text)\n",
    "def clean_special_chars(text):\n",
    "    return re.sub(r'[^a-zA-Z\\s]', '', text)\n",
    "def clean_extra_whitespace(text):\n",
    "    return re.sub(r'\\s+', ' ', text).strip()"
   ]
  },
  {
   "cell_type": "markdown",
   "id": "5906f581",
   "metadata": {
    "papermill": {
     "duration": 0.009691,
     "end_time": "2025-08-20T15:35:36.963879",
     "exception": false,
     "start_time": "2025-08-20T15:35:36.954188",
     "status": "completed"
    },
    "tags": []
   },
   "source": [
    "#### **Function Breakdown:**\n",
    "* **`clean_digits()`**: Removes all numeric sequences using regex `\\d+`\n",
    "* **`clean_special_chars()`**: Keeps only alphabetic characters and whitespace\n",
    "* **`clean_extra_whitespace()`**: Normalizes multiple spaces to single spaces and trims\n",
    "\n",
    "### **3. Applying Preprocessing Pipeline**"
   ]
  },
  {
   "cell_type": "code",
   "execution_count": 6,
   "id": "7df95147",
   "metadata": {
    "_cell_guid": "acac082a-368d-4e5f-9c95-13965df6edff",
    "_uuid": "9e03abab-6a43-4e4e-b152-462f949d377d",
    "collapsed": false,
    "execution": {
     "iopub.execute_input": "2025-08-20T15:35:36.984829Z",
     "iopub.status.busy": "2025-08-20T15:35:36.984472Z",
     "iopub.status.idle": "2025-08-20T15:35:44.695286Z",
     "shell.execute_reply": "2025-08-20T15:35:44.694328Z"
    },
    "jupyter": {
     "outputs_hidden": false
    },
    "papermill": {
     "duration": 7.723786,
     "end_time": "2025-08-20T15:35:44.697180",
     "exception": false,
     "start_time": "2025-08-20T15:35:36.973394",
     "status": "completed"
    },
    "tags": []
   },
   "outputs": [],
   "source": [
    "df['text'] = df['text'].str.lower()\n",
    "df['text'] = df['text'].apply(remove_punc)\n",
    "df['text'] = df['text'].apply(clean_digits)\n",
    "df['text'] = df['text'].apply(clean_special_chars)\n",
    "df['text'] = df['text'].apply(clean_extra_whitespace)"
   ]
  },
  {
   "cell_type": "markdown",
   "id": "e7e1ad46",
   "metadata": {
    "papermill": {
     "duration": 0.009864,
     "end_time": "2025-08-20T15:35:44.716994",
     "exception": false,
     "start_time": "2025-08-20T15:35:44.707130",
     "status": "completed"
    },
    "tags": []
   },
   "source": [
    "#### **Sequential Processing:**\n",
    "* **Lowercase Conversion**: Ensures case consistency\n",
    "* **Punctuation Removal**: Eliminates punctuation marks\n",
    "* **Digit Removal**: Removes numeric content\n",
    "* **Special Character Cleaning**: Keeps only letters and spacesWhitespace Normalization: Standardizes spacing\n",
    "\n",
    "## **4. Stop Words Removal**"
   ]
  },
  {
   "cell_type": "code",
   "execution_count": 7,
   "id": "67f34edd",
   "metadata": {
    "_cell_guid": "4ba6c50a-abab-457c-a4ee-07d78e0bb8a0",
    "_uuid": "ac9612c5-74e8-4000-a968-562468700b12",
    "collapsed": false,
    "execution": {
     "iopub.execute_input": "2025-08-20T15:35:44.738700Z",
     "iopub.status.busy": "2025-08-20T15:35:44.738387Z",
     "iopub.status.idle": "2025-08-20T15:35:53.822135Z",
     "shell.execute_reply": "2025-08-20T15:35:53.821135Z"
    },
    "jupyter": {
     "outputs_hidden": false
    },
    "papermill": {
     "duration": 9.097838,
     "end_time": "2025-08-20T15:35:53.824387",
     "exception": false,
     "start_time": "2025-08-20T15:35:44.726549",
     "status": "completed"
    },
    "tags": []
   },
   "outputs": [
    {
     "name": "stderr",
     "output_type": "stream",
     "text": [
      "[nltk_data] Downloading package stopwords to /usr/share/nltk_data...\n",
      "[nltk_data]   Package stopwords is already up-to-date!\n"
     ]
    }
   ],
   "source": [
    "import nltk\n",
    "nltk.download('stopwords')\n",
    "\n",
    "from nltk.corpus import stopwords\n",
    "def remove_stopwords(text):\n",
    "    stop_words = set(stopwords.words('english'))\n",
    "    return \" \".join([word for word in text.split() if word not in stop_words])\n",
    "\n",
    "df['text'] = df['text'].apply(remove_stopwords)"
   ]
  },
  {
   "cell_type": "markdown",
   "id": "df838675",
   "metadata": {
    "papermill": {
     "duration": 0.009539,
     "end_time": "2025-08-20T15:35:53.915883",
     "exception": false,
     "start_time": "2025-08-20T15:35:53.906344",
     "status": "completed"
    },
    "tags": []
   },
   "source": [
    "#### **Stop Words Concept:**\n",
    "* **Definition:** Common words (the, is, at, which, on) that appear frequently but carry little semantic meaning\n",
    "* **Impact:** Removing them reduces feature space and focuses on meaningful content\n",
    "* **Implementation:** Uses NLTK's predefined English stop words list\n",
    "\n",
    "### **5. Tokenization**"
   ]
  },
  {
   "cell_type": "code",
   "execution_count": 8,
   "id": "7ce369c8",
   "metadata": {
    "_cell_guid": "80cf4c88-209a-4cd3-91fb-a3a0cbe851f5",
    "_uuid": "131650b8-1a13-411b-bfe1-58487347e52b",
    "collapsed": false,
    "execution": {
     "iopub.execute_input": "2025-08-20T15:35:53.937095Z",
     "iopub.status.busy": "2025-08-20T15:35:53.936653Z",
     "iopub.status.idle": "2025-08-20T15:35:54.971510Z",
     "shell.execute_reply": "2025-08-20T15:35:54.970226Z"
    },
    "jupyter": {
     "outputs_hidden": false
    },
    "papermill": {
     "duration": 1.047455,
     "end_time": "2025-08-20T15:35:54.973319",
     "exception": false,
     "start_time": "2025-08-20T15:35:53.925864",
     "status": "completed"
    },
    "tags": []
   },
   "outputs": [],
   "source": [
    "df['tokens'] = df['text'].str.split()"
   ]
  },
  {
   "cell_type": "markdown",
   "id": "4ca10a98",
   "metadata": {
    "papermill": {
     "duration": 0.010981,
     "end_time": "2025-08-20T15:35:54.994869",
     "exception": false,
     "start_time": "2025-08-20T15:35:54.983888",
     "status": "completed"
    },
    "tags": []
   },
   "source": [
    "**Purpose:** Converts cleaned text into lists of individual words (tokens) for further analysis or processing.\n",
    "### **6. Data Inspection**\n"
   ]
  },
  {
   "cell_type": "code",
   "execution_count": 9,
   "id": "8347f7a5",
   "metadata": {
    "_cell_guid": "204f7401-ee2a-4229-a511-c5f9d54c1bb4",
    "_uuid": "18f578a0-e2f1-4df9-b888-b9b1082a1837",
    "collapsed": false,
    "execution": {
     "iopub.execute_input": "2025-08-20T15:35:55.017414Z",
     "iopub.status.busy": "2025-08-20T15:35:55.016984Z",
     "iopub.status.idle": "2025-08-20T15:35:55.027203Z",
     "shell.execute_reply": "2025-08-20T15:35:55.025807Z"
    },
    "jupyter": {
     "outputs_hidden": false
    },
    "papermill": {
     "duration": 0.024631,
     "end_time": "2025-08-20T15:35:55.029136",
     "exception": false,
     "start_time": "2025-08-20T15:35:55.004505",
     "status": "completed"
    },
    "tags": []
   },
   "outputs": [
    {
     "data": {
      "text/plain": [
       "['path',\n",
       " 'cantaloupesrvcscmuedudasnewsharvardedunocnearnethowlandrestonansnetnewsserverjvncnetrutgersigorrutgerseduathosrutgerseduchristian',\n",
       " 'keneacsbuedu',\n",
       " 'kenneth',\n",
       " 'engel',\n",
       " 'newsgroups',\n",
       " 'socreligionchristian',\n",
       " 'subject',\n",
       " 'atheists',\n",
       " 'hell',\n",
       " 'messageid',\n",
       " 'mayathosrutgersedu',\n",
       " 'date',\n",
       " 'may',\n",
       " 'gmt',\n",
       " 'sender',\n",
       " 'hedrickathosrutgersedu',\n",
       " 'organization',\n",
       " 'boston',\n",
       " 'university',\n",
       " 'boston',\n",
       " 'usa',\n",
       " 'lines',\n",
       " 'approved',\n",
       " 'christianaramisrutgersedu',\n",
       " 'imagine',\n",
       " 'worst',\n",
       " 'depth',\n",
       " 'despair',\n",
       " 'youve',\n",
       " 'ever',\n",
       " 'encountered',\n",
       " 'worst',\n",
       " 'physical',\n",
       " 'pain',\n",
       " 'youve',\n",
       " 'ever',\n",
       " 'experienced',\n",
       " 'people',\n",
       " 'suffer',\n",
       " 'emotional',\n",
       " 'physical',\n",
       " 'mental',\n",
       " 'anguish',\n",
       " 'lives',\n",
       " 'deaths',\n",
       " 'seem',\n",
       " 'merciful',\n",
       " 'least',\n",
       " 'pain',\n",
       " 'end',\n",
       " 'death',\n",
       " 'lived',\n",
       " 'hundred',\n",
       " 'lives',\n",
       " 'conclusion',\n",
       " 'one',\n",
       " 'instantly',\n",
       " 'reborn',\n",
       " 'another',\n",
       " 'lived',\n",
       " 'million',\n",
       " 'billion',\n",
       " 'years',\n",
       " 'state',\n",
       " 'kept',\n",
       " 'going',\n",
       " 'forever',\n",
       " 'happen',\n",
       " 'jesus',\n",
       " 'dont',\n",
       " 'think',\n",
       " 'heard',\n",
       " 'lived',\n",
       " 'one',\n",
       " 'day',\n",
       " 'suffering',\n",
       " 'died',\n",
       " 'wages',\n",
       " 'sin',\n",
       " 'paragraph',\n",
       " 'jesus',\n",
       " 'didnt',\n",
       " 'pay',\n",
       " 'sins',\n",
       " 'id',\n",
       " 'surprised',\n",
       " 'see',\n",
       " 'moderator',\n",
       " 'let',\n",
       " 'one',\n",
       " 'seriously',\n",
       " 'want',\n",
       " 'reasonable',\n",
       " 'explanation',\n",
       " 'ken']"
      ]
     },
     "execution_count": 9,
     "metadata": {},
     "output_type": "execute_result"
    }
   ],
   "source": [
    "df['text'][1]\n",
    "df['tokens'][1]"
   ]
  },
  {
   "cell_type": "markdown",
   "id": "f0a659af",
   "metadata": {
    "_cell_guid": "60b1a483-4966-44c7-be5e-7ffb1b192011",
    "_uuid": "4b3feca5-2441-4720-bbd2-1f045ab7124a",
    "collapsed": false,
    "jupyter": {
     "outputs_hidden": false
    },
    "papermill": {
     "duration": 0.011789,
     "end_time": "2025-08-20T15:35:55.051660",
     "exception": false,
     "start_time": "2025-08-20T15:35:55.039871",
     "status": "completed"
    },
    "tags": []
   },
   "source": [
    "**Purpose:** Displays sample processed text and tokens to verify the preprocessing pipeline's effectiveness.\n",
    "<hr>\n",
    "\n",
    "## **Data Splitting Strategy**\n",
    "### **🎯 Three-Way Split Implementation**\n",
    "Our data splitting strategy creates three distinct sets for robust model development:\n",
    "### **Primary Split: Train/Validation vs Test**"
   ]
  },
  {
   "cell_type": "code",
   "execution_count": 10,
   "id": "09eedd2b",
   "metadata": {
    "_cell_guid": "02f960eb-da6d-4b47-880a-6bee1c131105",
    "_uuid": "f221a0ad-cfe0-4931-bb89-b617c2ac243b",
    "collapsed": false,
    "execution": {
     "iopub.execute_input": "2025-08-20T15:35:55.073025Z",
     "iopub.status.busy": "2025-08-20T15:35:55.072711Z",
     "iopub.status.idle": "2025-08-20T15:35:55.148382Z",
     "shell.execute_reply": "2025-08-20T15:35:55.147257Z"
    },
    "jupyter": {
     "outputs_hidden": false
    },
    "papermill": {
     "duration": 0.088469,
     "end_time": "2025-08-20T15:35:55.150222",
     "exception": false,
     "start_time": "2025-08-20T15:35:55.061753",
     "status": "completed"
    },
    "tags": []
   },
   "outputs": [],
   "source": [
    "from sklearn.model_selection import train_test_split\n",
    "\n",
    "# ✅ 15% test set\n",
    "train_val_texts, test_texts, train_val_labels, test_labels = train_test_split(\n",
    "    df['text'], df['category'], test_size=0.15, random_state=42, stratify=df['category']\n",
    ")"
   ]
  },
  {
   "cell_type": "markdown",
   "id": "363a8696",
   "metadata": {
    "papermill": {
     "duration": 0.01415,
     "end_time": "2025-08-20T15:35:55.175616",
     "exception": false,
     "start_time": "2025-08-20T15:35:55.161466",
     "status": "completed"
    },
    "tags": []
   },
   "source": [
    "#### **Key Parameters:**\n",
    "\n",
    "* **`test_size=0.15`:** Reserves 15% of data for final testing\n",
    "* **`random_state=42`:** Ensures reproducible splits\n",
    "* **`stratify=df['category']`:** Maintains proportional class distribution across splits\n",
    "\n",
    "## **Secondary Split: Train vs Validation**"
   ]
  },
  {
   "cell_type": "code",
   "execution_count": 11,
   "id": "8fc6f6dc",
   "metadata": {
    "_cell_guid": "175976c4-1fb7-4e63-b366-9f634f25cfdc",
    "_uuid": "ddd8f6fb-a06a-4008-a942-36b5460c8003",
    "collapsed": false,
    "execution": {
     "iopub.execute_input": "2025-08-20T15:35:55.200170Z",
     "iopub.status.busy": "2025-08-20T15:35:55.199857Z",
     "iopub.status.idle": "2025-08-20T15:35:55.274442Z",
     "shell.execute_reply": "2025-08-20T15:35:55.273183Z"
    },
    "jupyter": {
     "outputs_hidden": false
    },
    "papermill": {
     "duration": 0.089341,
     "end_time": "2025-08-20T15:35:55.276821",
     "exception": false,
     "start_time": "2025-08-20T15:35:55.187480",
     "status": "completed"
    },
    "tags": []
   },
   "outputs": [],
   "source": [
    "# ✅ ~17.65% of 85% = 15% of original total → for validation\n",
    "train_texts, val_texts, train_labels, val_labels = train_test_split(\n",
    "    train_val_texts, train_val_labels, test_size=0.1765, random_state=42, stratify=train_val_labels\n",
    ")"
   ]
  },
  {
   "cell_type": "markdown",
   "id": "22316fd1",
   "metadata": {
    "_cell_guid": "20376af2-5cd8-4fbe-81bd-279ce4a37ee5",
    "_uuid": "69093f9d-d310-4d96-b176-de7824c77ee9",
    "collapsed": false,
    "jupyter": {
     "outputs_hidden": false
    },
    "papermill": {
     "duration": 0.00969,
     "end_time": "2025-08-20T15:35:55.296646",
     "exception": false,
     "start_time": "2025-08-20T15:35:55.286956",
     "status": "completed"
    },
    "tags": []
   },
   "source": [
    "#### **Mathematical Calculation**:\n",
    "\n",
    "* Original data: 100%\n",
    "* After first split: 85% remains\n",
    "* Validation from remaining: 0.1765 × 85% ≈ 15% of original\n",
    "* **Final Distribution:** ~70% Train, 15% Validation, 15% Test\n",
    "\n",
    "<hr>\n",
    "\n",
    "## **Data Set Analysis**\n",
    "### **📊 Set Sizes**"
   ]
  },
  {
   "cell_type": "code",
   "execution_count": 12,
   "id": "a903fcdc",
   "metadata": {
    "_cell_guid": "e8413157-0002-4f13-a6ba-d379a391dc67",
    "_uuid": "57dd34cf-6b9e-49f1-bce5-465bd60c2d68",
    "collapsed": false,
    "execution": {
     "iopub.execute_input": "2025-08-20T15:35:55.322832Z",
     "iopub.status.busy": "2025-08-20T15:35:55.322355Z",
     "iopub.status.idle": "2025-08-20T15:35:55.329830Z",
     "shell.execute_reply": "2025-08-20T15:35:55.327818Z"
    },
    "jupyter": {
     "outputs_hidden": false
    },
    "papermill": {
     "duration": 0.023396,
     "end_time": "2025-08-20T15:35:55.331647",
     "exception": false,
     "start_time": "2025-08-20T15:35:55.308251",
     "status": "completed"
    },
    "tags": []
   },
   "outputs": [
    {
     "name": "stdout",
     "output_type": "stream",
     "text": [
      "Train set size: 27994\n",
      "Validation set size: 6000\n",
      "Test set size: 6000\n"
     ]
    }
   ],
   "source": [
    "print(f\"Train set size: {len(train_texts)}\")\n",
    "print(f\"Validation set size: {len(val_texts)}\")\n",
    "print(f\"Test set size: {len(test_texts)}\")"
   ]
  },
  {
   "cell_type": "markdown",
   "id": "d406c840",
   "metadata": {
    "_cell_guid": "e2a9d2a0-805d-4e04-b0bd-d5d5f3ab2f6e",
    "_uuid": "8d660fe3-7149-49f3-b787-7710862c4197",
    "collapsed": false,
    "jupyter": {
     "outputs_hidden": false
    },
    "papermill": {
     "duration": 0.009841,
     "end_time": "2025-08-20T15:35:55.352622",
     "exception": false,
     "start_time": "2025-08-20T15:35:55.342781",
     "status": "completed"
    },
    "tags": []
   },
   "source": [
    "**Purpose:** Verifies the actual sizes of each split to ensure proper data distribution.\n",
    "### **🔍 Sample Data Inspection**"
   ]
  },
  {
   "cell_type": "code",
   "execution_count": 13,
   "id": "ed40a7f4",
   "metadata": {
    "_cell_guid": "19ea3821-d4aa-4b75-8f3b-92e6d20a5067",
    "_uuid": "d3abad6e-3a13-4fe6-beb7-cf8be8a3ee94",
    "collapsed": false,
    "execution": {
     "iopub.execute_input": "2025-08-20T15:35:55.373946Z",
     "iopub.status.busy": "2025-08-20T15:35:55.373617Z",
     "iopub.status.idle": "2025-08-20T15:35:55.379791Z",
     "shell.execute_reply": "2025-08-20T15:35:55.378814Z"
    },
    "jupyter": {
     "outputs_hidden": false
    },
    "papermill": {
     "duration": 0.019495,
     "end_time": "2025-08-20T15:35:55.382073",
     "exception": false,
     "start_time": "2025-08-20T15:35:55.362578",
     "status": "completed"
    },
    "tags": []
   },
   "outputs": [
    {
     "name": "stdout",
     "output_type": "stream",
     "text": [
      "Train sample: newsgroups compsysmachardware path cantaloupesrvcscmuedudasnewsharvardedunocnearnethowlandrestonansnetgatechnewsfeedpeachneteduumnedumolbiocbsumneduhorton hortonmolbiocbsumnedu robert horton subject macs suck buy pc messageid couopftnewscisumnedu sender newsnewscisumnedu usenet news administration nntppostinghost molbiocbsumnedu organization university minnesota xnewsreader tin pl references netnewsupennedu date sun apr gmt lines tests suck post real message\n",
      "Validation sample: path cantaloupesrvcscmuedurochesterudelwupostuunetpipexwarwickwarwicknotformail csulocsvwarwickacuk mr j brown newsgroups scielectronics subject rpm floopy drives update date apr organization computing services university warwick uk lines messageid rgdminndglclovercsvwarwickacuk references rjlinnfclovercsvwarwickacuk cwieegnmsukyedu nntppostinghost clovercsvwarwickacuk article cwieegnmsukyedu msundemikukyedu writes hopefully sort bad quid normally pardon ignorance foreign currency exchange rates quid relate british pound whatever called american dollars k sorry used correct terminology quid knicker approx us dollars terry pratchett book good omens contains adequate explanation rather strange uk money system past present americans tibetans alien species michael brown csulocsvwarwickacuk mjbdcswarwickacuk lost interest bad ive lost apathy\n",
      "Test sample: path cantaloupesrvcscmuedurochesterrutgersuwmedulinacpacificmpsohiostateeduzaphodmpsohiostateeduhowlandrestonansnetnocnearnetnicumassedunewsamherstedukhcheng khchengunixamherstedu kim hong cheng newsgroups miscforsale subject telepath faxmodem gateway messageid csedhncunixamherstedu date apr gmt sender newsunixamherstedu news good news organization amherst college lines nntppostinghost amhuxamherstedu xnewsreader tin version pl gateway telepath faxmodem gateway computer crosstalk winfax pro windows never used shipped gateway hong\n"
     ]
    }
   ],
   "source": [
    "print(\"Train sample:\", train_texts.iloc[0])\n",
    "print(\"Validation sample:\", val_texts.iloc[0])\n",
    "print(\"Test sample:\", test_texts.iloc[0])"
   ]
  },
  {
   "cell_type": "markdown",
   "id": "fcc4b0d2",
   "metadata": {
    "_cell_guid": "3d3ee7f5-0534-4e52-8f29-2757b9710910",
    "_uuid": "304a5361-723b-400b-8da0-df41f8d5a049",
    "collapsed": false,
    "jupyter": {
     "outputs_hidden": false
    },
    "papermill": {
     "duration": 0.012365,
     "end_time": "2025-08-20T15:35:55.405357",
     "exception": false,
     "start_time": "2025-08-20T15:35:55.392992",
     "status": "completed"
    },
    "tags": []
   },
   "source": [
    "**Purpose:** Examines sample texts from each set to verify preprocessing quality and data integrity.\n",
    "## **Class Distribution Analysis**\n",
    "Understanding class distribution is crucial for identifying potential data imbalances that could affect model performance."
   ]
  },
  {
   "cell_type": "code",
   "execution_count": 14,
   "id": "e84df9c4",
   "metadata": {
    "_cell_guid": "85a72d50-703a-47c3-91ac-fd3d74d8ed38",
    "_uuid": "ec30a1ba-efec-4f2f-883e-2283bd0488f2",
    "collapsed": false,
    "execution": {
     "iopub.execute_input": "2025-08-20T15:35:55.429870Z",
     "iopub.status.busy": "2025-08-20T15:35:55.429540Z",
     "iopub.status.idle": "2025-08-20T15:35:55.453726Z",
     "shell.execute_reply": "2025-08-20T15:35:55.452670Z"
    },
    "jupyter": {
     "outputs_hidden": false
    },
    "papermill": {
     "duration": 0.038436,
     "end_time": "2025-08-20T15:35:55.455900",
     "exception": false,
     "start_time": "2025-08-20T15:35:55.417464",
     "status": "completed"
    },
    "tags": []
   },
   "outputs": [
    {
     "name": "stdout",
     "output_type": "stream",
     "text": [
      "Train class distribution:\n",
      "category\n",
      "comp.sys.mac.hardware       1400\n",
      "rec.motorcycles             1400\n",
      "talk.politics.mideast       1400\n",
      "talk.politics.guns          1400\n",
      "comp.graphics               1400\n",
      "talk.politics.misc          1400\n",
      "sci.med                     1400\n",
      "comp.windows.x              1400\n",
      "rec.sport.hockey            1400\n",
      "sci.crypt                   1400\n",
      "sci.electronics             1400\n",
      "sci.space                   1400\n",
      "alt.atheism                 1400\n",
      "comp.sys.ibm.pc.hardware    1400\n",
      "rec.autos                   1400\n",
      "talk.religion.misc          1400\n",
      "comp.os.ms-windows.misc     1400\n",
      "rec.sport.baseball          1400\n",
      "misc.forsale                1399\n",
      "soc.religion.christian      1395\n",
      "Name: count, dtype: int64\n",
      "\n",
      "Validation class distribution:\n",
      "category\n",
      "misc.forsale                301\n",
      "sci.electronics             300\n",
      "talk.politics.misc          300\n",
      "talk.politics.guns          300\n",
      "alt.atheism                 300\n",
      "talk.religion.misc          300\n",
      "sci.space                   300\n",
      "rec.motorcycles             300\n",
      "rec.sport.hockey            300\n",
      "comp.windows.x              300\n",
      "comp.sys.ibm.pc.hardware    300\n",
      "rec.sport.baseball          300\n",
      "sci.med                     300\n",
      "sci.crypt                   300\n",
      "comp.os.ms-windows.misc     300\n",
      "comp.sys.mac.hardware       300\n",
      "comp.graphics               300\n",
      "talk.politics.mideast       300\n",
      "rec.autos                   300\n",
      "soc.religion.christian      299\n",
      "Name: count, dtype: int64\n",
      "\n",
      "Test class distribution:\n",
      "category\n",
      "misc.forsale                300\n",
      "comp.graphics               300\n",
      "talk.politics.guns          300\n",
      "sci.space                   300\n",
      "talk.politics.mideast       300\n",
      "comp.sys.ibm.pc.hardware    300\n",
      "rec.sport.hockey            300\n",
      "comp.os.ms-windows.misc     300\n",
      "talk.politics.misc          300\n",
      "rec.motorcycles             300\n",
      "rec.autos                   300\n",
      "talk.religion.misc          300\n",
      "sci.med                     300\n",
      "soc.religion.christian      300\n",
      "alt.atheism                 300\n",
      "comp.windows.x              300\n",
      "comp.sys.mac.hardware       300\n",
      "rec.sport.baseball          300\n",
      "sci.electronics             300\n",
      "sci.crypt                   300\n",
      "Name: count, dtype: int64\n"
     ]
    }
   ],
   "source": [
    "print(\"Train class distribution:\")\n",
    "print(train_labels.value_counts())\n",
    "\n",
    "print(\"\\nValidation class distribution:\")\n",
    "print(val_labels.value_counts())\n",
    "\n",
    "print(\"\\nTest class distribution:\")\n",
    "print(test_labels.value_counts())"
   ]
  },
  {
   "cell_type": "markdown",
   "id": "b344e1ad",
   "metadata": {
    "_cell_guid": "ef1beed3-8c51-4cd1-b40b-3dfd3c140e82",
    "_uuid": "461f2164-0799-4e05-a564-b048797d74d1",
    "collapsed": false,
    "jupyter": {
     "outputs_hidden": false
    },
    "papermill": {
     "duration": 0.010735,
     "end_time": "2025-08-20T15:35:55.477875",
     "exception": false,
     "start_time": "2025-08-20T15:35:55.467140",
     "status": "completed"
    },
    "tags": []
   },
   "source": [
    "#### **Why This Matters:**\n",
    "* **Balanced Classes:** Helps identify if any newsgroup category is under/over-represented\n",
    "* **Stratification Verification:** Confirms that stratified splitting maintained proportional distributions\n",
    "* **Model Bias Prevention:** Ensures the model won't be biased toward majority classes\n",
    "<hr>\n",
    "\n",
    "## **Feature Engineering: Vectorization**\n",
    "Text data needs to be converted into numerical format for machine learning algorithms. We use TF-IDF vectorization, a sophisticated technique that captures both term frequency and document importance.\n",
    "### **🔤 TF-IDF Vectorization**"
   ]
  },
  {
   "cell_type": "code",
   "execution_count": 15,
   "id": "be241411",
   "metadata": {
    "_cell_guid": "6d648105-7d94-4d23-a377-bc5c2d8c7356",
    "_uuid": "08eabd44-8a5d-4c24-842c-3b7e06cc5aa4",
    "collapsed": false,
    "execution": {
     "iopub.execute_input": "2025-08-20T15:35:55.501463Z",
     "iopub.status.busy": "2025-08-20T15:35:55.501081Z",
     "iopub.status.idle": "2025-08-20T15:35:55.507021Z",
     "shell.execute_reply": "2025-08-20T15:35:55.505741Z"
    },
    "jupyter": {
     "outputs_hidden": false
    },
    "papermill": {
     "duration": 0.020138,
     "end_time": "2025-08-20T15:35:55.508916",
     "exception": false,
     "start_time": "2025-08-20T15:35:55.488778",
     "status": "completed"
    },
    "tags": []
   },
   "outputs": [],
   "source": [
    "from sklearn.feature_extraction.text import TfidfVectorizer\n",
    "\n",
    "vectorizer = TfidfVectorizer(\n",
    "    max_features=5000,\n",
    "    ngram_range=(1, 2),\n",
    "    stop_words=\"english\"\n",
    ")"
   ]
  },
  {
   "cell_type": "markdown",
   "id": "d38d2b16",
   "metadata": {
    "papermill": {
     "duration": 0.011303,
     "end_time": "2025-08-20T15:35:55.530513",
     "exception": false,
     "start_time": "2025-08-20T15:35:55.519210",
     "status": "completed"
    },
    "tags": []
   },
   "source": [
    "#### **TF-IDF Parameters Explained:**\n",
    "\n",
    "* **`max_features=5000`**: Limits vocabulary to top 5000 most important terms\n",
    "    * *Benefit*: Reduces dimensionality and computational complexity\n",
    "    * *Trade-off*: May lose some less common but potentially meaningful terms\n",
    "\n",
    "* **`ngram_range=(1, 2)`**: Includes both unigrams and bigrams\n",
    "    * *Unigrams*: Single words (\"machine\", \"learning\")\n",
    "    * *Bigrams*: Two-word phrases (\"machine learning\", \"neural network\")\n",
    "    * *Advantage*: Captures both individual words and meaningful phrases\n",
    "\n",
    "* **stop_words=\"english\"**: Additional stop word filtering\n",
    "    * *Purpose*: Removes common English words that don't contribute to classification\n",
    "    * *Note*: Provides backup filtering even after our manual preprocessing\n",
    "\n",
    "### **Vector Transformation**"
   ]
  },
  {
   "cell_type": "code",
   "execution_count": 16,
   "id": "0a47e85e",
   "metadata": {
    "_cell_guid": "a6870568-8ad6-44ab-8396-c0900531e717",
    "_uuid": "c70c5ccb-19c3-4fae-8c42-67e461c8d2a7",
    "collapsed": false,
    "execution": {
     "iopub.execute_input": "2025-08-20T15:35:55.553061Z",
     "iopub.status.busy": "2025-08-20T15:35:55.552727Z",
     "iopub.status.idle": "2025-08-20T15:36:15.585998Z",
     "shell.execute_reply": "2025-08-20T15:36:15.584957Z"
    },
    "jupyter": {
     "outputs_hidden": false
    },
    "papermill": {
     "duration": 20.04672,
     "end_time": "2025-08-20T15:36:15.587927",
     "exception": false,
     "start_time": "2025-08-20T15:35:55.541207",
     "status": "completed"
    },
    "tags": []
   },
   "outputs": [],
   "source": [
    "X_train = vectorizer.fit_transform(train_texts)\n",
    "X_val = vectorizer.transform(val_texts)\n",
    "X_test = vectorizer.transform(test_texts)"
   ]
  },
  {
   "cell_type": "markdown",
   "id": "b9a5b9fb",
   "metadata": {
    "papermill": {
     "duration": 0.009866,
     "end_time": "2025-08-20T15:36:15.608295",
     "exception": false,
     "start_time": "2025-08-20T15:36:15.598429",
     "status": "completed"
    },
    "tags": []
   },
   "source": [
    "### **Critical Process Details:**\n",
    "* **`fit_transform(train_texts)`**: Learns vocabulary from training data AND transforms it\n",
    "* **`transform(val_texts/test_texts)`**: Only transforms using learned vocabulary\n",
    "* **Data Leakage Prevention**: Vocabulary is learned only from training data\n",
    "\n",
    "**Mathematical Concept**: TF-IDF combines:\n",
    "\n",
    "* **Term Frequency (TF)**: How often a term appears in a document\n",
    "* **Inverse Document Frequency (IDF)**: How rare/common a term is across all documents\n",
    "* **Formula**: TF-IDF = TF × log(Total Documents / Documents containing term)\n",
    "\n",
    "<hr>\n",
    "\n",
    "## **Neural Network Implementation**\n",
    "### **🧠 Label Encoding for Multi-Class Classification**\n",
    "### **Step 1: Label Preprocessing**"
   ]
  },
  {
   "cell_type": "markdown",
   "id": "939699d7",
   "metadata": {
    "_cell_guid": "7239f2e0-8fb2-434f-85b9-982381ca8e0a",
    "_uuid": "0b85daf1-d6d2-45f4-b5f8-efe08f50fe6c",
    "collapsed": false,
    "jupyter": {
     "outputs_hidden": false
    },
    "papermill": {
     "duration": 0.009751,
     "end_time": "2025-08-20T15:36:15.628076",
     "exception": false,
     "start_time": "2025-08-20T15:36:15.618325",
     "status": "completed"
    },
    "tags": []
   },
   "source": [
    "### 🧩 Step 1: Encode Labels for ANN"
   ]
  },
  {
   "cell_type": "code",
   "execution_count": 17,
   "id": "c8a63e20",
   "metadata": {
    "_cell_guid": "37abd4f8-cbcf-44c0-b107-053656420e23",
    "_uuid": "b1c0f75d-47b4-4138-863d-025c6b8f3316",
    "collapsed": false,
    "execution": {
     "iopub.execute_input": "2025-08-20T15:36:15.651445Z",
     "iopub.status.busy": "2025-08-20T15:36:15.651101Z",
     "iopub.status.idle": "2025-08-20T15:36:34.470960Z",
     "shell.execute_reply": "2025-08-20T15:36:34.469806Z"
    },
    "jupyter": {
     "outputs_hidden": false
    },
    "papermill": {
     "duration": 18.834543,
     "end_time": "2025-08-20T15:36:34.472694",
     "exception": false,
     "start_time": "2025-08-20T15:36:15.638151",
     "status": "completed"
    },
    "tags": []
   },
   "outputs": [
    {
     "name": "stderr",
     "output_type": "stream",
     "text": [
      "2025-08-20 15:36:17.756900: E external/local_xla/xla/stream_executor/cuda/cuda_fft.cc:477] Unable to register cuFFT factory: Attempting to register factory for plugin cuFFT when one has already been registered\n",
      "WARNING: All log messages before absl::InitializeLog() is called are written to STDERR\n",
      "E0000 00:00:1755704178.024147      13 cuda_dnn.cc:8310] Unable to register cuDNN factory: Attempting to register factory for plugin cuDNN when one has already been registered\n",
      "E0000 00:00:1755704178.101385      13 cuda_blas.cc:1418] Unable to register cuBLAS factory: Attempting to register factory for plugin cuBLAS when one has already been registered\n"
     ]
    },
    {
     "data": {
      "text/html": [
       "<style>#sk-container-id-1 {color: black;background-color: white;}#sk-container-id-1 pre{padding: 0;}#sk-container-id-1 div.sk-toggleable {background-color: white;}#sk-container-id-1 label.sk-toggleable__label {cursor: pointer;display: block;width: 100%;margin-bottom: 0;padding: 0.3em;box-sizing: border-box;text-align: center;}#sk-container-id-1 label.sk-toggleable__label-arrow:before {content: \"▸\";float: left;margin-right: 0.25em;color: #696969;}#sk-container-id-1 label.sk-toggleable__label-arrow:hover:before {color: black;}#sk-container-id-1 div.sk-estimator:hover label.sk-toggleable__label-arrow:before {color: black;}#sk-container-id-1 div.sk-toggleable__content {max-height: 0;max-width: 0;overflow: hidden;text-align: left;background-color: #f0f8ff;}#sk-container-id-1 div.sk-toggleable__content pre {margin: 0.2em;color: black;border-radius: 0.25em;background-color: #f0f8ff;}#sk-container-id-1 input.sk-toggleable__control:checked~div.sk-toggleable__content {max-height: 200px;max-width: 100%;overflow: auto;}#sk-container-id-1 input.sk-toggleable__control:checked~label.sk-toggleable__label-arrow:before {content: \"▾\";}#sk-container-id-1 div.sk-estimator input.sk-toggleable__control:checked~label.sk-toggleable__label {background-color: #d4ebff;}#sk-container-id-1 div.sk-label input.sk-toggleable__control:checked~label.sk-toggleable__label {background-color: #d4ebff;}#sk-container-id-1 input.sk-hidden--visually {border: 0;clip: rect(1px 1px 1px 1px);clip: rect(1px, 1px, 1px, 1px);height: 1px;margin: -1px;overflow: hidden;padding: 0;position: absolute;width: 1px;}#sk-container-id-1 div.sk-estimator {font-family: monospace;background-color: #f0f8ff;border: 1px dotted black;border-radius: 0.25em;box-sizing: border-box;margin-bottom: 0.5em;}#sk-container-id-1 div.sk-estimator:hover {background-color: #d4ebff;}#sk-container-id-1 div.sk-parallel-item::after {content: \"\";width: 100%;border-bottom: 1px solid gray;flex-grow: 1;}#sk-container-id-1 div.sk-label:hover label.sk-toggleable__label {background-color: #d4ebff;}#sk-container-id-1 div.sk-serial::before {content: \"\";position: absolute;border-left: 1px solid gray;box-sizing: border-box;top: 0;bottom: 0;left: 50%;z-index: 0;}#sk-container-id-1 div.sk-serial {display: flex;flex-direction: column;align-items: center;background-color: white;padding-right: 0.2em;padding-left: 0.2em;position: relative;}#sk-container-id-1 div.sk-item {position: relative;z-index: 1;}#sk-container-id-1 div.sk-parallel {display: flex;align-items: stretch;justify-content: center;background-color: white;position: relative;}#sk-container-id-1 div.sk-item::before, #sk-container-id-1 div.sk-parallel-item::before {content: \"\";position: absolute;border-left: 1px solid gray;box-sizing: border-box;top: 0;bottom: 0;left: 50%;z-index: -1;}#sk-container-id-1 div.sk-parallel-item {display: flex;flex-direction: column;z-index: 1;position: relative;background-color: white;}#sk-container-id-1 div.sk-parallel-item:first-child::after {align-self: flex-end;width: 50%;}#sk-container-id-1 div.sk-parallel-item:last-child::after {align-self: flex-start;width: 50%;}#sk-container-id-1 div.sk-parallel-item:only-child::after {width: 0;}#sk-container-id-1 div.sk-dashed-wrapped {border: 1px dashed gray;margin: 0 0.4em 0.5em 0.4em;box-sizing: border-box;padding-bottom: 0.4em;background-color: white;}#sk-container-id-1 div.sk-label label {font-family: monospace;font-weight: bold;display: inline-block;line-height: 1.2em;}#sk-container-id-1 div.sk-label-container {text-align: center;}#sk-container-id-1 div.sk-container {/* jupyter's `normalize.less` sets `[hidden] { display: none; }` but bootstrap.min.css set `[hidden] { display: none !important; }` so we also need the `!important` here to be able to override the default hidden behavior on the sphinx rendered scikit-learn.org. See: https://github.com/scikit-learn/scikit-learn/issues/21755 */display: inline-block !important;position: relative;}#sk-container-id-1 div.sk-text-repr-fallback {display: none;}</style><div id=\"sk-container-id-1\" class=\"sk-top-container\"><div class=\"sk-text-repr-fallback\"><pre>LabelEncoder()</pre><b>In a Jupyter environment, please rerun this cell to show the HTML representation or trust the notebook. <br />On GitHub, the HTML representation is unable to render, please try loading this page with nbviewer.org.</b></div><div class=\"sk-container\" hidden><div class=\"sk-item\"><div class=\"sk-estimator sk-toggleable\"><input class=\"sk-toggleable__control sk-hidden--visually\" id=\"sk-estimator-id-1\" type=\"checkbox\" checked><label for=\"sk-estimator-id-1\" class=\"sk-toggleable__label sk-toggleable__label-arrow\">LabelEncoder</label><div class=\"sk-toggleable__content\"><pre>LabelEncoder()</pre></div></div></div></div></div>"
      ],
      "text/plain": [
       "LabelEncoder()"
      ]
     },
     "execution_count": 17,
     "metadata": {},
     "output_type": "execute_result"
    }
   ],
   "source": [
    "from sklearn.preprocessing import LabelEncoder\n",
    "from tensorflow.keras.utils import to_categorical\n",
    "\n",
    "# 1. Initialize label encoder\n",
    "le = LabelEncoder()\n",
    "\n",
    "# 2. Fit on ALL categories (so train/val/test share the same mapping)\n",
    "le.fit(df['category'])"
   ]
  },
  {
   "cell_type": "markdown",
   "id": "82925f42",
   "metadata": {
    "papermill": {
     "duration": 0.010286,
     "end_time": "2025-08-20T15:36:34.493533",
     "exception": false,
     "start_time": "2025-08-20T15:36:34.483247",
     "status": "completed"
    },
    "tags": []
   },
   "source": [
    "#### **Why Fit on All Categories:**\n",
    "* **Consistency**: Ensures same label-to-number mapping across all splits\n",
    "* **Completeness**: Handles edge cases where a category might be missing in train/val\n",
    "* **Reproducibility**: Maintains consistent encoding across different runs\n",
    "\n",
    "### **Step 2: Integer Transformation**"
   ]
  },
  {
   "cell_type": "code",
   "execution_count": 18,
   "id": "661def11",
   "metadata": {
    "_cell_guid": "ecc303e3-5984-4c7f-9cde-3079b5debb2b",
    "_uuid": "d358f230-7830-47ca-a298-096bb2075768",
    "collapsed": false,
    "execution": {
     "iopub.execute_input": "2025-08-20T15:36:34.516674Z",
     "iopub.status.busy": "2025-08-20T15:36:34.515619Z",
     "iopub.status.idle": "2025-08-20T15:36:34.534733Z",
     "shell.execute_reply": "2025-08-20T15:36:34.533857Z"
    },
    "jupyter": {
     "outputs_hidden": false
    },
    "papermill": {
     "duration": 0.03224,
     "end_time": "2025-08-20T15:36:34.536139",
     "exception": false,
     "start_time": "2025-08-20T15:36:34.503899",
     "status": "completed"
    },
    "tags": []
   },
   "outputs": [],
   "source": [
    "# 3. Transform labels into integers\n",
    "y_train_int = le.transform(train_labels)\n",
    "y_val_int   = le.transform(val_labels)\n",
    "y_test_int  = le.transform(test_labels)"
   ]
  },
  {
   "cell_type": "markdown",
   "id": "9818ac14",
   "metadata": {
    "papermill": {
     "duration": 0.010102,
     "end_time": "2025-08-20T15:36:34.557110",
     "exception": false,
     "start_time": "2025-08-20T15:36:34.547008",
     "status": "completed"
    },
    "tags": []
   },
   "source": [
    "#### **Label Encoding Process:**\n",
    "* Converts string categories (\"comp.graphics\", \"sci.space\", etc.) to integers (0, 1, 2, ...)\n",
    "* Creates numerical representation suitable for mathematical operations\n",
    "\n",
    "### **Step 3: One-Hot Encoding**"
   ]
  },
  {
   "cell_type": "code",
   "execution_count": 19,
   "id": "4ab1e00b",
   "metadata": {
    "_cell_guid": "cfb3d628-5cdb-48e3-a1df-5a52740cd072",
    "_uuid": "e93cb0a4-01a7-4448-b470-efe513be14a0",
    "collapsed": false,
    "execution": {
     "iopub.execute_input": "2025-08-20T15:36:34.579356Z",
     "iopub.status.busy": "2025-08-20T15:36:34.579012Z",
     "iopub.status.idle": "2025-08-20T15:36:34.589266Z",
     "shell.execute_reply": "2025-08-20T15:36:34.588341Z"
    },
    "jupyter": {
     "outputs_hidden": false
    },
    "papermill": {
     "duration": 0.023317,
     "end_time": "2025-08-20T15:36:34.591025",
     "exception": false,
     "start_time": "2025-08-20T15:36:34.567708",
     "status": "completed"
    },
    "tags": []
   },
   "outputs": [],
   "source": [
    "# 4. Convert integers → one-hot vectors\n",
    "y_train = to_categorical(y_train_int)\n",
    "y_val   = to_categorical(y_val_int)\n",
    "y_test  = to_categorical(y_test_int)"
   ]
  },
  {
   "cell_type": "markdown",
   "id": "ce69af11",
   "metadata": {
    "_cell_guid": "798d5047-9506-4cce-8b3e-eb0ed5432865",
    "_uuid": "811c2b21-2ce1-40fc-81af-37307aca8094",
    "collapsed": false,
    "jupyter": {
     "outputs_hidden": false
    },
    "papermill": {
     "duration": 0.010182,
     "end_time": "2025-08-20T15:36:34.612230",
     "exception": false,
     "start_time": "2025-08-20T15:36:34.602048",
     "status": "completed"
    },
    "tags": []
   },
   "source": [
    "#### **One-Hot Encoding Explanation:**\n",
    "* **Purpose**: Converts integer labels to binary vectors\n",
    "* **Example**: Category 2 (out of 20) becomes [0,0,1,0,0,0,0,0,0,0,0,0,0,0,0,0,0,0,0,0]\n",
    "* **Benefit**: Prevents the model from assuming ordinal relationships between categories\n",
    "\n",
    "### **Step 4: Shape Verification**"
   ]
  },
  {
   "cell_type": "code",
   "execution_count": 20,
   "id": "c43bd87f",
   "metadata": {
    "_cell_guid": "8053df97-5b3a-4cb5-8e45-08768dba6c9e",
    "_uuid": "c4af9f0a-d013-4302-8952-f2652c2e6efb",
    "collapsed": false,
    "execution": {
     "iopub.execute_input": "2025-08-20T15:36:34.634253Z",
     "iopub.status.busy": "2025-08-20T15:36:34.633942Z",
     "iopub.status.idle": "2025-08-20T15:36:34.639354Z",
     "shell.execute_reply": "2025-08-20T15:36:34.638326Z"
    },
    "jupyter": {
     "outputs_hidden": false
    },
    "papermill": {
     "duration": 0.018317,
     "end_time": "2025-08-20T15:36:34.640843",
     "exception": false,
     "start_time": "2025-08-20T15:36:34.622526",
     "status": "completed"
    },
    "tags": []
   },
   "outputs": [
    {
     "name": "stdout",
     "output_type": "stream",
     "text": [
      "y_train shape: (27994, 20)\n",
      "y_val shape: (6000, 20)\n",
      "y_test shape: (6000, 20)\n"
     ]
    }
   ],
   "source": [
    "# 5. Check shapes\n",
    "print(\"y_train shape:\", y_train.shape)\n",
    "print(\"y_val shape:\", y_val.shape)\n",
    "print(\"y_test shape:\", y_test.shape)"
   ]
  },
  {
   "cell_type": "markdown",
   "id": "560f86cf",
   "metadata": {
    "papermill": {
     "duration": 0.010024,
     "end_time": "2025-08-20T15:36:34.662117",
     "exception": false,
     "start_time": "2025-08-20T15:36:34.652093",
     "status": "completed"
    },
    "tags": []
   },
   "source": [
    "#### **Expected Output Format:**\n",
    "* Shape should be (n_samples, 20) where 20 is the number of newsgroup categories\n",
    "* Each row sums to 1.0 (exactly one category per document)\n",
    "\n",
    "<hr>\n",
    "\n",
    "## **🧠 Neural Network Architecture**\n",
    "### **Model Initialization**"
   ]
  },
  {
   "cell_type": "code",
   "execution_count": 21,
   "id": "13874ce5",
   "metadata": {
    "_cell_guid": "bcf313cf-5484-4db6-a74f-ac3608341b6f",
    "_uuid": "b9f10a44-9f5f-4f8b-99a7-d4aeecb889e2",
    "collapsed": false,
    "execution": {
     "iopub.execute_input": "2025-08-20T15:36:34.686702Z",
     "iopub.status.busy": "2025-08-20T15:36:34.686383Z",
     "iopub.status.idle": "2025-08-20T15:36:34.696081Z",
     "shell.execute_reply": "2025-08-20T15:36:34.695002Z"
    },
    "jupyter": {
     "outputs_hidden": false
    },
    "papermill": {
     "duration": 0.024788,
     "end_time": "2025-08-20T15:36:34.698159",
     "exception": false,
     "start_time": "2025-08-20T15:36:34.673371",
     "status": "completed"
    },
    "tags": []
   },
   "outputs": [],
   "source": [
    "from tensorflow.keras.models import Sequential\n",
    "from tensorflow.keras.layers import Dense, Dropout\n",
    "\n",
    "# 1. Initialize model\n",
    "model = Sequential()"
   ]
  },
  {
   "cell_type": "markdown",
   "id": "58baad54",
   "metadata": {
    "papermill": {
     "duration": 0.01047,
     "end_time": "2025-08-20T15:36:34.721179",
     "exception": false,
     "start_time": "2025-08-20T15:36:34.710709",
     "status": "completed"
    },
    "tags": []
   },
   "source": [
    "#### **Sequential Model Choice:**\n",
    "* **Linear Architecture**: Layers are stacked sequentially\n",
    "* **Simplicity**: Easy to understand and modify\n",
    "* **Suitability**: Perfect for standard feedforward networks\n",
    "\n",
    "\n",
    "### **Hidden Layers Design**"
   ]
  },
  {
   "cell_type": "code",
   "execution_count": 22,
   "id": "2d5ee756",
   "metadata": {
    "_cell_guid": "14c4908d-c93d-439d-8f26-bc6fa33a9049",
    "_uuid": "7f053ee2-5084-4496-8c70-d5fab3d9d708",
    "collapsed": false,
    "execution": {
     "iopub.execute_input": "2025-08-20T15:36:34.743184Z",
     "iopub.status.busy": "2025-08-20T15:36:34.742902Z",
     "iopub.status.idle": "2025-08-20T15:36:34.846737Z",
     "shell.execute_reply": "2025-08-20T15:36:34.845743Z"
    },
    "jupyter": {
     "outputs_hidden": false
    },
    "papermill": {
     "duration": 0.11681,
     "end_time": "2025-08-20T15:36:34.848368",
     "exception": false,
     "start_time": "2025-08-20T15:36:34.731558",
     "status": "completed"
    },
    "tags": []
   },
   "outputs": [
    {
     "name": "stderr",
     "output_type": "stream",
     "text": [
      "/usr/local/lib/python3.11/dist-packages/keras/src/layers/core/dense.py:87: UserWarning: Do not pass an `input_shape`/`input_dim` argument to a layer. When using Sequential models, prefer using an `Input(shape)` object as the first layer in the model instead.\n",
      "  super().__init__(activity_regularizer=activity_regularizer, **kwargs)\n",
      "2025-08-20 15:36:34.754520: E external/local_xla/xla/stream_executor/cuda/cuda_driver.cc:152] failed call to cuInit: INTERNAL: CUDA error: Failed call to cuInit: UNKNOWN ERROR (303)\n"
     ]
    }
   ],
   "source": [
    "# 2. Input + Hidden layers\n",
    "model.add(Dense(128, activation='relu', input_shape=(X_train.shape[1],)))\n",
    "model.add(Dropout(0.3))\n",
    "model.add(Dense(64, activation='relu'))"
   ]
  },
  {
   "cell_type": "markdown",
   "id": "c5ae47eb",
   "metadata": {
    "papermill": {
     "duration": 0.010076,
     "end_time": "2025-08-20T15:36:34.868938",
     "exception": false,
     "start_time": "2025-08-20T15:36:34.858862",
     "status": "completed"
    },
    "tags": []
   },
   "source": [
    "### **Layer-by-Layer Breakdown:**\n",
    "### **First Dense Layer:**\n",
    "* **128 neurons**: Provides sufficient capacity for learning complex patterns\n",
    "* **ReLU activation**: Rectified Linear Unit - introduces non-linearity while avoiding vanishing gradients\n",
    "* **input_shape**: Automatically determined from TF-IDF vectors (5000 features)\n",
    "\n",
    "\n",
    "### **Dropout Layer:**\n",
    "* **30% dropout rate**: Randomly sets 30% of neurons to zero during training\n",
    "* **Purpose**: Prevents overfitting by forcing the network to not rely on specific neurons\n",
    "* **Training vs Inference**: Only active during training, not during prediction\n",
    "\n",
    "\n",
    "### **Second Dense Layer:**\n",
    "\n",
    "* **64 neurons**: Smaller than first layer, creating a funnel architecture\n",
    "* **ReLU activation**: Maintains non-linearity for complex pattern recognition\n",
    "\n",
    "## **Output Layer**"
   ]
  },
  {
   "cell_type": "code",
   "execution_count": 23,
   "id": "deb5c20a",
   "metadata": {
    "_cell_guid": "0c637b4e-d8ec-4f31-8e6b-dac51fea9d6e",
    "_uuid": "cc87587d-4e53-4b01-8603-1901b7c99763",
    "collapsed": false,
    "execution": {
     "iopub.execute_input": "2025-08-20T15:36:34.892326Z",
     "iopub.status.busy": "2025-08-20T15:36:34.891966Z",
     "iopub.status.idle": "2025-08-20T15:36:34.911248Z",
     "shell.execute_reply": "2025-08-20T15:36:34.910264Z"
    },
    "jupyter": {
     "outputs_hidden": false
    },
    "papermill": {
     "duration": 0.033455,
     "end_time": "2025-08-20T15:36:34.913112",
     "exception": false,
     "start_time": "2025-08-20T15:36:34.879657",
     "status": "completed"
    },
    "tags": []
   },
   "outputs": [],
   "source": [
    "# 3. Output layer\n",
    "model.add(Dense(y_train.shape[1], activation='softmax'))"
   ]
  },
  {
   "cell_type": "markdown",
   "id": "7588b5f9",
   "metadata": {
    "papermill": {
     "duration": 0.010327,
     "end_time": "2025-08-20T15:36:34.934842",
     "exception": false,
     "start_time": "2025-08-20T15:36:34.924515",
     "status": "completed"
    },
    "tags": []
   },
   "source": [
    "#### **Output Layer Specifications:**\n",
    "\n",
    "* **Neurons**: `y_train.shape[1]` = 20 (one per newsgroup category)\n",
    "* **Softmax activation**: Converts raw outputs to probability distribution\n",
    "* **Probability Sum**: All outputs sum to 1.0, representing classification confidence\n",
    "\n",
    "### **Model Compilation**"
   ]
  },
  {
   "cell_type": "code",
   "execution_count": 24,
   "id": "05584333",
   "metadata": {
    "_cell_guid": "1b7c9775-d95c-44bc-9331-06150570ebfc",
    "_uuid": "841935bd-7d80-4816-8d5f-b3a87bd41ae0",
    "collapsed": false,
    "execution": {
     "iopub.execute_input": "2025-08-20T15:36:34.957442Z",
     "iopub.status.busy": "2025-08-20T15:36:34.957085Z",
     "iopub.status.idle": "2025-08-20T15:36:34.972138Z",
     "shell.execute_reply": "2025-08-20T15:36:34.971334Z"
    },
    "jupyter": {
     "outputs_hidden": false
    },
    "papermill": {
     "duration": 0.028344,
     "end_time": "2025-08-20T15:36:34.973863",
     "exception": false,
     "start_time": "2025-08-20T15:36:34.945519",
     "status": "completed"
    },
    "tags": []
   },
   "outputs": [],
   "source": [
    "# 4. Compile\n",
    "model.compile(\n",
    "    loss='categorical_crossentropy',\n",
    "    optimizer='adam',\n",
    "    metrics=['accuracy']\n",
    ")"
   ]
  },
  {
   "cell_type": "markdown",
   "id": "6c281817",
   "metadata": {
    "papermill": {
     "duration": 0.01042,
     "end_time": "2025-08-20T15:36:34.995549",
     "exception": false,
     "start_time": "2025-08-20T15:36:34.985129",
     "status": "completed"
    },
    "tags": []
   },
   "source": [
    "#### **Compilation Parameters:**\n",
    "\n",
    "* **Loss Function**: `categorical_crossentropy` - optimal for multi-class classification with one-hot labels\n",
    "* **Optimizer**: `adam` - adaptive learning rate optimizer that works well out-of-the-box\n",
    "* **Metrics**: `accuracy` - percentage of correctly classified samples\n",
    "\n",
    "### **Model Training**"
   ]
  },
  {
   "cell_type": "code",
   "execution_count": 25,
   "id": "0d6452c2",
   "metadata": {
    "_cell_guid": "9aaf1a92-8029-485d-95b5-b67f91945936",
    "_uuid": "a8c62ec9-4082-4c83-9cb1-e33eb9c106c8",
    "collapsed": false,
    "execution": {
     "iopub.execute_input": "2025-08-20T15:36:35.017790Z",
     "iopub.status.busy": "2025-08-20T15:36:35.017472Z",
     "iopub.status.idle": "2025-08-20T15:37:13.944302Z",
     "shell.execute_reply": "2025-08-20T15:37:13.943345Z"
    },
    "jupyter": {
     "outputs_hidden": false
    },
    "papermill": {
     "duration": 38.940003,
     "end_time": "2025-08-20T15:37:13.946033",
     "exception": false,
     "start_time": "2025-08-20T15:36:35.006030",
     "status": "completed"
    },
    "tags": []
   },
   "outputs": [
    {
     "name": "stdout",
     "output_type": "stream",
     "text": [
      "Epoch 1/5\n",
      "\u001b[1m875/875\u001b[0m \u001b[32m━━━━━━━━━━━━━━━━━━━━\u001b[0m\u001b[37m\u001b[0m \u001b[1m10s\u001b[0m 9ms/step - accuracy: 0.7171 - loss: 1.3067 - val_accuracy: 0.9633 - val_loss: 0.1011\n",
      "Epoch 2/5\n",
      "\u001b[1m875/875\u001b[0m \u001b[32m━━━━━━━━━━━━━━━━━━━━\u001b[0m\u001b[37m\u001b[0m \u001b[1m7s\u001b[0m 8ms/step - accuracy: 0.9691 - loss: 0.0824 - val_accuracy: 0.9597 - val_loss: 0.0881\n",
      "Epoch 3/5\n",
      "\u001b[1m875/875\u001b[0m \u001b[32m━━━━━━━━━━━━━━━━━━━━\u001b[0m\u001b[37m\u001b[0m \u001b[1m7s\u001b[0m 8ms/step - accuracy: 0.9725 - loss: 0.0640 - val_accuracy: 0.9620 - val_loss: 0.0861\n",
      "Epoch 4/5\n",
      "\u001b[1m875/875\u001b[0m \u001b[32m━━━━━━━━━━━━━━━━━━━━\u001b[0m\u001b[37m\u001b[0m \u001b[1m7s\u001b[0m 8ms/step - accuracy: 0.9730 - loss: 0.0595 - val_accuracy: 0.9632 - val_loss: 0.0860\n",
      "Epoch 5/5\n",
      "\u001b[1m875/875\u001b[0m \u001b[32m━━━━━━━━━━━━━━━━━━━━\u001b[0m\u001b[37m\u001b[0m \u001b[1m7s\u001b[0m 8ms/step - accuracy: 0.9752 - loss: 0.0540 - val_accuracy: 0.9592 - val_loss: 0.0849\n"
     ]
    }
   ],
   "source": [
    "# 5. Train\n",
    "history = model.fit(\n",
    "    X_train, y_train,\n",
    "    validation_data=(X_val, y_val),\n",
    "    epochs=5,\n",
    "    batch_size=32,\n",
    "    verbose=1\n",
    ")"
   ]
  },
  {
   "cell_type": "markdown",
   "id": "99eace32",
   "metadata": {
    "papermill": {
     "duration": 0.041373,
     "end_time": "2025-08-20T15:37:14.029675",
     "exception": false,
     "start_time": "2025-08-20T15:37:13.988302",
     "status": "completed"
    },
    "tags": []
   },
   "source": [
    "#### **Training Parameters:**\n",
    "* **epochs=5**: Number of complete passes through the training data\n",
    "* **batch_size=32**: Number of samples processed before updating model weights\n",
    "* **validation_data**: Used for monitoring overfitting during training\n",
    "* **verbose=1**: Displays progress bars and metrics during training\n",
    "\n",
    "#### **Training Process:**\n",
    "\n",
    "* Model learns patterns by minimizing categorical crossentropy loss\n",
    "* Weights are updated using backpropagation and Adam optimizer\n",
    "* Validation metrics help monitor generalization performance\n",
    "\n",
    "<hr>\n",
    "\n",
    "## **Model Evaluation and Analysis**\n",
    "### **🔍 Comprehensive Performance Assessment**\n",
    "#### **Prediction Generation**"
   ]
  },
  {
   "cell_type": "markdown",
   "id": "a15bce05",
   "metadata": {
    "_cell_guid": "d25696d9-ea6c-435a-8c97-ed8e2ea428b8",
    "_uuid": "96032da6-88fa-45a7-956b-653ddac023e5",
    "collapsed": false,
    "jupyter": {
     "outputs_hidden": false
    },
    "papermill": {
     "duration": 0.041346,
     "end_time": "2025-08-20T15:37:14.112839",
     "exception": false,
     "start_time": "2025-08-20T15:37:14.071493",
     "status": "completed"
    },
    "tags": []
   },
   "source": [
    "### 🧩 Step 4: Model Evaluation"
   ]
  },
  {
   "cell_type": "code",
   "execution_count": 26,
   "id": "5e0e6681",
   "metadata": {
    "_cell_guid": "9531aa8c-0b43-4798-bab6-361756fb1b72",
    "_uuid": "19b11a52-1355-4984-9a00-c37335d12b7f",
    "collapsed": false,
    "execution": {
     "iopub.execute_input": "2025-08-20T15:37:14.198736Z",
     "iopub.status.busy": "2025-08-20T15:37:14.198434Z",
     "iopub.status.idle": "2025-08-20T15:37:15.776261Z",
     "shell.execute_reply": "2025-08-20T15:37:15.775338Z"
    },
    "jupyter": {
     "outputs_hidden": false
    },
    "papermill": {
     "duration": 1.622422,
     "end_time": "2025-08-20T15:37:15.778025",
     "exception": false,
     "start_time": "2025-08-20T15:37:14.155603",
     "status": "completed"
    },
    "tags": []
   },
   "outputs": [
    {
     "name": "stdout",
     "output_type": "stream",
     "text": [
      "\u001b[1m188/188\u001b[0m \u001b[32m━━━━━━━━━━━━━━━━━━━━\u001b[0m\u001b[37m\u001b[0m \u001b[1m1s\u001b[0m 3ms/step\n"
     ]
    }
   ],
   "source": [
    "from sklearn.metrics import confusion_matrix, classification_report\n",
    "import numpy as np\n",
    "import matplotlib.pyplot as plt\n",
    "import seaborn as sns\n",
    "\n",
    "# 1. Predict on test set (probabilities)\n",
    "y_pred_probs = model.predict(X_test)"
   ]
  },
  {
   "cell_type": "markdown",
   "id": "1817e354",
   "metadata": {
    "papermill": {
     "duration": 0.044221,
     "end_time": "2025-08-20T15:37:15.864923",
     "exception": false,
     "start_time": "2025-08-20T15:37:15.820702",
     "status": "completed"
    },
    "tags": []
   },
   "source": [
    "### **Prediction Process:**\n",
    "* **Output**: Probability distribution over all 20 categories for each test sample\n",
    "* **Shape**: `(n_test_samples, 20)` where each row sums to 1.0\n",
    "* **Interpretation**: Higher probability indicates higher confidence for that category\n",
    "\n",
    "## **Converting Probabilities to Labels**"
   ]
  },
  {
   "cell_type": "code",
   "execution_count": 27,
   "id": "83cdd801",
   "metadata": {
    "_cell_guid": "45eb79dd-60db-459c-83bb-51f9f1395967",
    "_uuid": "db744a8c-f36f-4b44-b4e0-970e58e66282",
    "collapsed": false,
    "execution": {
     "iopub.execute_input": "2025-08-20T15:37:15.951206Z",
     "iopub.status.busy": "2025-08-20T15:37:15.950586Z",
     "iopub.status.idle": "2025-08-20T15:37:15.956087Z",
     "shell.execute_reply": "2025-08-20T15:37:15.955190Z"
    },
    "jupyter": {
     "outputs_hidden": false
    },
    "papermill": {
     "duration": 0.050575,
     "end_time": "2025-08-20T15:37:15.957647",
     "exception": false,
     "start_time": "2025-08-20T15:37:15.907072",
     "status": "completed"
    },
    "tags": []
   },
   "outputs": [],
   "source": [
    "# 2. Convert probabilities → class labels (argmax)\n",
    "y_pred = np.argmax(y_pred_probs, axis=1)\n",
    "y_true = np.argmax(y_test, axis=1)  # convert one-hot back to integers"
   ]
  },
  {
   "cell_type": "markdown",
   "id": "a59d814d",
   "metadata": {
    "papermill": {
     "duration": 0.041464,
     "end_time": "2025-08-20T15:37:16.041169",
     "exception": false,
     "start_time": "2025-08-20T15:37:15.999705",
     "status": "completed"
    },
    "tags": []
   },
   "source": [
    "### **Conversion Logic:**\n",
    "\n",
    "* **`np.argmax()`**: Finds index of highest probability\n",
    "* **Final Prediction**: Category with maximum predicted probability\n",
    "* **Ground Truth**: Converts one-hot encoded labels back to integer format\n",
    "\n",
    "## **Confusion Matrix Visualization**"
   ]
  },
  {
   "cell_type": "code",
   "execution_count": 28,
   "id": "3ef6ec59",
   "metadata": {
    "_cell_guid": "be664192-4ef0-4721-a117-72234e79bfef",
    "_uuid": "8e014ad4-4c30-4a6e-a5a4-f69a1051fb82",
    "collapsed": false,
    "execution": {
     "iopub.execute_input": "2025-08-20T15:37:16.127810Z",
     "iopub.status.busy": "2025-08-20T15:37:16.127176Z",
     "iopub.status.idle": "2025-08-20T15:37:17.213216Z",
     "shell.execute_reply": "2025-08-20T15:37:17.212326Z"
    },
    "jupyter": {
     "outputs_hidden": false
    },
    "papermill": {
     "duration": 1.131109,
     "end_time": "2025-08-20T15:37:17.214742",
     "exception": false,
     "start_time": "2025-08-20T15:37:16.083633",
     "status": "completed"
    },
    "tags": []
   },
   "outputs": [
    {
     "data": {
      "image/png": "[encoded data removed]",
      "text/plain": [
       "<Figure size 1200x1000 with 2 Axes>"
      ]
     },
     "metadata": {},
     "output_type": "display_data"
    }
   ],
   "source": [
    "# 3. Confusion Matrix\n",
    "cm = confusion_matrix(y_true, y_pred)\n",
    "\n",
    "plt.figure(figsize=(12,10))\n",
    "sns.heatmap(cm, annot=False, cmap=\"Blues\", fmt=\"d\")\n",
    "plt.title(\"Confusion Matrix\")\n",
    "plt.xlabel(\"Predicted Label\")\n",
    "plt.ylabel(\"True Label\")\n",
    "plt.show()"
   ]
  },
  {
   "cell_type": "markdown",
   "id": "ae544406",
   "metadata": {
    "papermill": {
     "duration": 0.042481,
     "end_time": "2025-08-20T15:37:17.299935",
     "exception": false,
     "start_time": "2025-08-20T15:37:17.257454",
     "status": "completed"
    },
    "tags": []
   },
   "source": [
    "### **Confusion Matrix Insights:**\n",
    "* **Diagonal Elements**: Correct predictions (True Positives for each class)\n",
    "* **Off-Diagonal Elements**: Misclassifications\n",
    "* **Perfect Classifier**: Would show only diagonal elements\n",
    "* **Visual Analysis**: Darker blue indicates higher values\n",
    "\n",
    "### **Interpretation Guide:**\n",
    "\n",
    "* Strong diagonal = good overall performance\n",
    "* Scattered off-diagonal = confusion between specific categories\n",
    "* Systematic patterns = potential class similarity issues\n",
    "\n",
    "## **Detailed Classification Report**"
   ]
  },
  {
   "cell_type": "code",
   "execution_count": 29,
   "id": "46608abf",
   "metadata": {
    "_cell_guid": "19316048-4ca5-4906-90b7-5372103691b7",
    "_uuid": "b1e19304-475f-4201-b7a9-3079a531a8eb",
    "collapsed": false,
    "execution": {
     "iopub.execute_input": "2025-08-20T15:37:17.386344Z",
     "iopub.status.busy": "2025-08-20T15:37:17.385979Z",
     "iopub.status.idle": "2025-08-20T15:37:17.412636Z",
     "shell.execute_reply": "2025-08-20T15:37:17.411330Z"
    },
    "jupyter": {
     "outputs_hidden": false
    },
    "papermill": {
     "duration": 0.072229,
     "end_time": "2025-08-20T15:37:17.414570",
     "exception": false,
     "start_time": "2025-08-20T15:37:17.342341",
     "status": "completed"
    },
    "tags": []
   },
   "outputs": [
    {
     "name": "stdout",
     "output_type": "stream",
     "text": [
      "                          precision    recall  f1-score   support\n",
      "\n",
      "             alt.atheism       0.83      0.89      0.86       300\n",
      "           comp.graphics       0.99      0.98      0.98       300\n",
      " comp.os.ms-windows.misc       0.99      0.98      0.98       300\n",
      "comp.sys.ibm.pc.hardware       0.97      0.99      0.98       300\n",
      "   comp.sys.mac.hardware       1.00      0.98      0.99       300\n",
      "          comp.windows.x       0.99      1.00      1.00       300\n",
      "            misc.forsale       0.99      0.99      0.99       300\n",
      "               rec.autos       0.99      0.99      0.99       300\n",
      "         rec.motorcycles       1.00      1.00      1.00       300\n",
      "      rec.sport.baseball       1.00      1.00      1.00       300\n",
      "        rec.sport.hockey       1.00      1.00      1.00       300\n",
      "               sci.crypt       1.00      1.00      1.00       300\n",
      "         sci.electronics       0.98      1.00      0.99       300\n",
      "                 sci.med       0.99      0.99      0.99       300\n",
      "               sci.space       1.00      0.99      0.99       300\n",
      "  soc.religion.christian       1.00      1.00      1.00       300\n",
      "      talk.politics.guns       0.92      0.93      0.93       300\n",
      "   talk.politics.mideast       0.98      0.97      0.97       300\n",
      "      talk.politics.misc       0.88      0.81      0.84       300\n",
      "      talk.religion.misc       0.74      0.75      0.74       300\n",
      "\n",
      "                accuracy                           0.96      6000\n",
      "               macro avg       0.96      0.96      0.96      6000\n",
      "            weighted avg       0.96      0.96      0.96      6000\n",
      "\n"
     ]
    }
   ],
   "source": [
    "# 4. Classification Report (Accuracy, Precision, Recall, F1 per class)\n",
    "print(classification_report(y_true, y_pred, target_names=le.classes_))"
   ]
  },
  {
   "cell_type": "markdown",
   "id": "6c5534d1",
   "metadata": {
    "papermill": {
     "duration": 0.043373,
     "end_time": "2025-08-20T15:37:17.502608",
     "exception": false,
     "start_time": "2025-08-20T15:37:17.459235",
     "status": "completed"
    },
    "tags": []
   },
   "source": [
    "### **Metrics Explanation:**\n",
    "#### **Per-Class Metrics:**\n",
    "* **Precision**: Of all predicted category X, how many were actually category X?\n",
    "* **Recall**: Of all actual category X, how many did we correctly identify?\n",
    "* **F1-Score**: Harmonic mean of precision and recall\n",
    "\n",
    "#### **Overall Metrics:**\n",
    "* **Accuracy**: Percentage of all predictions that were correct\n",
    "* **Macro Average**: Unweighted average across all classes\n",
    "* **Weighted Average**: Weighted by class frequency\n",
    "\n",
    "#### **Business Impact:**\n",
    "* High precision = Low false positives\n",
    "* High recall = Low false negatives\n",
    "* High F1-score = Balanced precision and recall\n",
    "\n",
    "<hr>"
   ]
  },
  {
   "cell_type": "markdown",
   "id": "680e1916",
   "metadata": {
    "papermill": {
     "duration": 0.043,
     "end_time": "2025-08-20T15:37:17.589213",
     "exception": false,
     "start_time": "2025-08-20T15:37:17.546213",
     "status": "completed"
    },
    "tags": []
   },
   "source": [
    "## **🔧 Model Architecture Summary**\n",
    "### **Network Structure:**\n",
    "\n",
    "```\n",
    "\n",
    "    Input Layer (5000 features from TF-IDF)\n",
    "        ↓\n",
    "    Dense Layer (128 neurons, ReLU)\n",
    "        ↓\n",
    "    Dropout Layer (30% dropout)\n",
    "        ↓\n",
    "    Dense Layer (64 neurons, ReLU)\n",
    "        ↓\n",
    "    Output Layer (20 neurons, Softmax)\n",
    "\n",
    "\n",
    "```\n",
    "\n",
    "### **Key Design Decisions:**\n",
    "* **Feature Engineering**: TF-IDF with bigrams captures semantic meaning\n",
    "* **Architecture**: Funnel design (128 → 64 → 20) gradually reduces complexity\n",
    "* **Regularization**: Dropout prevents overfitting\n",
    "* **Activation**: ReLU for hidden layers, Softmax for multi-class output\n",
    "\n",
    "## **🛠️ Tools and Libraries**\n",
    "### **Essential Libraries:**\n",
    "* **pandas**: Data manipulation and analysis\n",
    "* **scikit-learn**: Machine learning utilities and metrics\n",
    "* **TensorFlow/Keras**: Deep learning framework\n",
    "* **NLTK**: Natural language processing toolkit\n",
    "* **matplotlib/seaborn**: Data visualization\n",
    "\n",
    "## **Development Environment:**\n",
    "* **Jupyter Notebooks**: Interactive development\n",
    "* **Google Colab**: Free GPU access for training\n",
    "* **Kaggle Kernel**s: Competition environment with datasets\n",
    "\n",
    "<hr>\n",
    "\n",
    "*This notebook demonstrates a complete end-to-end text classification pipeline, from raw text processing to neural network evaluation. The 20 Newsgroups dataset serves as an excellent benchmark for understanding multi-class text classification challenges and solutions.*"
   ]
  },
  {
   "cell_type": "code",
   "execution_count": null,
   "id": "2fdc09f0",
   "metadata": {
    "papermill": {
     "duration": 0.043819,
     "end_time": "2025-08-20T15:37:17.676778",
     "exception": false,
     "start_time": "2025-08-20T15:37:17.632959",
     "status": "completed"
    },
    "tags": []
   },
   "outputs": [],
   "source": []
  }
 ],
 "metadata": {
  "kaggle": {
   "accelerator": "none",
   "dataSources": [
    {
     "datasetId": 66753,
     "sourceId": 131593,
     "sourceType": "datasetVersion"
    }
   ],
   "dockerImageVersionId": 31089,
   "isGpuEnabled": false,
   "isInternetEnabled": true,
   "language": "python",
   "sourceType": "notebook"
  },
  "kernelspec": {
   "display_name": "Python 3",
   "language": "python",
   "name": "python3"
  },
  "language_info": {
   "codemirror_mode": {
    "name": "ipython",
    "version": 3
   },
   "file_extension": ".py",
   "mimetype": "text/x-python",
   "name": "python",
   "nbconvert_exporter": "python",
   "pygments_lexer": "ipython3",
   "version": "3.11.13"
  },
  "papermill": {
   "default_parameters": {},
   "duration": 404.978386,
   "end_time": "2025-08-20T15:37:20.445062",
   "environment_variables": {},
   "exception": null,
   "input_path": "__notebook__.ipynb",
   "output_path": "__notebook__.ipynb",
   "parameters": {},
   "start_time": "2025-08-20T15:30:35.466676",
   "version": "2.6.0"
  }
 },
 "nbformat": 4,
 "nbformat_minor": 5
}
